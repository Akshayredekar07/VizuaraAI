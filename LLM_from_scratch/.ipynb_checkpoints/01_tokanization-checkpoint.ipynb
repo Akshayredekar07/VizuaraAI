{
 "cells": [
  {
   "cell_type": "code",
   "execution_count": 2,
   "id": "a6b36196",
   "metadata": {},
   "outputs": [
    {
     "name": "stdout",
     "output_type": "stream",
     "text": [
      "LLMs from scratch\n"
     ]
    }
   ],
   "source": [
    "print(\"LLMs from scratch\")"
   ]
  },
  {
   "cell_type": "markdown",
   "id": "90468736",
   "metadata": {},
   "source": [
    "<div class=\"alert alert-block alert-success\">TOKANIZATION<div>"
   ]
  },
  {
   "cell_type": "code",
   "execution_count": null,
   "id": "bbaa0af2",
   "metadata": {},
   "outputs": [],
   "source": [
    "with open(\"dataset/the-verdict.txt\", \"r\", encoding=\"utf-8\") as f:\n"
   ]
  }
 ],
 "metadata": {
  "kernelspec": {
   "display_name": "Python 3",
   "language": "python",
   "name": "python3"
  },
  "language_info": {
   "codemirror_mode": {
    "name": "ipython",
    "version": 3
   },
   "file_extension": ".py",
   "mimetype": "text/x-python",
   "name": "python",
   "nbconvert_exporter": "python",
   "pygments_lexer": "ipython3",
   "version": "3.10.9"
  }
 },
 "nbformat": 4,
 "nbformat_minor": 5
}
