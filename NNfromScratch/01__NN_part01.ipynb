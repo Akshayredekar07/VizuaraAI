{
 "cells": [
  {
   "cell_type": "code",
   "execution_count": 5,
   "id": "dda45ae8",
   "metadata": {},
   "outputs": [
    {
     "name": "stdout",
     "output_type": "stream",
     "text": [
      "2.3\n"
     ]
    }
   ],
   "source": [
    "inputs = [1,2,3]\n",
    "weights = [0.2, 0.8, -0.5]\n",
    "bias = 2\n",
    "output=(inputs[0]*weights[0] + inputs[1]*weights[1] + inputs[2]*weights[2] + bias)\n",
    "print(output)"
   ]
  },
  {
   "cell_type": "code",
   "execution_count": 6,
   "id": "f650224d",
   "metadata": {},
   "outputs": [
    {
     "name": "stdout",
     "output_type": "stream",
     "text": [
      "3.8\n"
     ]
    }
   ],
   "source": [
    "# Neuron with 4 inputs\n",
    "inputs = [1.0, 2.0, 3.0, 2.5]\n",
    "weights = [0.2, 0.8, -0.5, 0.6]\n",
    "bias = 2\n",
    "output=(inputs[0]*weights[0] + inputs[1]*weights[1] + inputs[2]*weights[2] + inputs[3]*weights[3]+ bias)\n",
    "print(output)"
   ]
  },
  {
   "cell_type": "code",
   "execution_count": 15,
   "id": "d8c909e9",
   "metadata": {},
   "outputs": [
    {
     "name": "stdout",
     "output_type": "stream",
     "text": [
      "[3.8, 4.1, 6.95]\n"
     ]
    }
   ],
   "source": [
    "# Network with 4 inputs and 3 neuron\n",
    "inputs = [1.0, 2.0, 3.0, 2.5]\n",
    "weights = [\n",
    "    [0.2, 0.8, -0.5, 0.6],\n",
    "    [0.2, -0.8, 0.5, 0.4],\n",
    "    [0.5, 0.5, -0.1, 2.1],\n",
    "]\n",
    "\n",
    "weights1 = weights[0] # List of weights associated with the 1st neuron \n",
    "weights2 = weights[1] # List of weights associated with the 2nd neuron\n",
    "weights3 = weights[2] # List of weights associated with the 3rd neuron\n",
    "\n",
    "biases = [2, 3, 0.5]\n",
    "bias1 = biases[0]\n",
    "bias2 = biases[1]\n",
    "bias3 = biases[2]\n",
    "\n",
    "outputs = [\n",
    "    # Neuron 1:\n",
    "    inputs[0]*weights1[0]+\n",
    "    inputs[1]*weights1[1]+\n",
    "    inputs[2]*weights1[2]+\n",
    "    inputs[3]*weights1[3]+bias1,\n",
    "    # Neuron 2:\n",
    "    inputs[0]*weights2[0]+\n",
    "    inputs[1]*weights2[1]+\n",
    "    inputs[2]*weights2[2]+\n",
    "    inputs[3]*weights2[3]+bias2,\n",
    "    # Neuron 3:\n",
    "    inputs[0]*weights3[0]+\n",
    "    inputs[1]*weights3[1]+\n",
    "    inputs[2]*weights3[2]+\n",
    "    inputs[3]*weights3[3]+bias3\n",
    "]\n",
    "\n",
    "\n",
    "print(outputs)"
   ]
  },
  {
   "cell_type": "code",
   "execution_count": 17,
   "id": "52f8cdca",
   "metadata": {},
   "outputs": [
    {
     "name": "stdout",
     "output_type": "stream",
     "text": [
      "[3.8, 4.1, 6.95]\n"
     ]
    }
   ],
   "source": [
    "# Inputs and weights\n",
    "inputs = [1.0, 2.0, 3.0, 2.5]\n",
    "weights = [\n",
    "    [0.2, 0.8, -0.5, 0.6],   # Neuron 1\n",
    "    [0.2, -0.8, 0.5, 0.4],   # Neuron 2\n",
    "    [0.5, 0.5, -0.1, 2.1],   # Neuron 3\n",
    "]\n",
    "\n",
    "# Correct bias alignment\n",
    "biases = [2, 3, 0.5]   # Neuron 1 → 2, Neuron 2 → 3, Neuron 3 → 0.5\n",
    "\n",
    "# Manually compute outputs\n",
    "outputs = [\n",
    "    # Neuron 1\n",
    "    inputs[0]*weights[0][0] +\n",
    "    inputs[1]*weights[0][1] +\n",
    "    inputs[2]*weights[0][2] +\n",
    "    inputs[3]*weights[0][3] + biases[0],\n",
    "\n",
    "    # Neuron 2\n",
    "    inputs[0]*weights[1][0] +\n",
    "    inputs[1]*weights[1][1] +\n",
    "    inputs[2]*weights[1][2] +\n",
    "    inputs[3]*weights[1][3] + biases[1],\n",
    "\n",
    "    # Neuron 3\n",
    "    inputs[0]*weights[2][0] +\n",
    "    inputs[1]*weights[2][1] +\n",
    "    inputs[2]*weights[2][2] +\n",
    "    inputs[3]*weights[2][3] + biases[2],\n",
    "]\n",
    "\n",
    "print(outputs)\n"
   ]
  },
  {
   "cell_type": "code",
   "execution_count": 14,
   "id": "efd493bd",
   "metadata": {},
   "outputs": [],
   "source": [
    "# inputs = [1.1, 2.2, 3.3]\n",
    "# weights = [\n",
    "#     [2, 0, 0],\n",
    "#     [2, 2, 0],\n",
    "#     [2, 2, 2]\n",
    "# ]\n",
    "# biases = [0, 1, 1]\n"
   ]
  },
  {
   "cell_type": "code",
   "execution_count": 18,
   "id": "d0bdb03b",
   "metadata": {},
   "outputs": [
    {
     "name": "stdout",
     "output_type": "stream",
     "text": [
      "[3.8, 4.1, 6.95]\n"
     ]
    }
   ],
   "source": [
    "# Use loop for the multiplication in a neural network layer\n",
    "\n",
    "# Input values\n",
    "inputs = [1.0, 2.0, 3.0, 2.5]\n",
    "\n",
    "# Weights for each neuron (3 neurons, each with 4 weights)\n",
    "weights = [\n",
    "    [0.2, 0.8, -0.5, 0.6],  # Weights for neuron 1\n",
    "    [0.2, -0.8, 0.5, 0.4],  # Weights for neuron 2\n",
    "    [0.5, 0.5, -0.1, 2.1],  # Weights for neuron 3\n",
    "]\n",
    "\n",
    "# Bias values for each neuron\n",
    "biases = [2, 3, 0.5]\n",
    "\n",
    "# Output of the layer (list to store results for each neuron)\n",
    "layer_output = []\n",
    "\n",
    "# Iterate over each neuron's weights and corresponding bias\n",
    "for neuron_weights, neuron_bias in zip(weights, biases):\n",
    "    # Initialize neuron output to zero\n",
    "    neuron_output = 0\n",
    "    \n",
    "    # Compute weighted sum for the neuron\n",
    "    for n_input, weight in zip(inputs, neuron_weights):\n",
    "        # Multiply input by weight and accumulate\n",
    "        neuron_output += n_input * weight  # W1*X1 + W2*X2 + W3*X3 + W4*X4\n",
    "    \n",
    "    # Add the bias term\n",
    "    neuron_output += neuron_bias\n",
    "    \n",
    "    # Append the neuron's output to the layer's output list\n",
    "    layer_output.append(neuron_output)\n",
    "\n",
    "# Print the layer output\n",
    "print(layer_output)"
   ]
  },
  {
   "cell_type": "code",
   "execution_count": null,
   "id": "c2f41174",
   "metadata": {},
   "outputs": [
    {
     "name": "stdout",
     "output_type": "stream",
     "text": [
      "3.8\n"
     ]
    }
   ],
   "source": [
    "# Single neuron using the numpy\n",
    "import numpy as np\n",
    "inputs = [1.0, 2.0, 3.0, 2.5]\n",
    "weights = [0.2, 0.8, -0.5, 0.6]\n",
    "bias = 2.0\n",
    "output = np.dot(weights, inputs) + bias\n",
    "# output = np.dot(inputs, weights) + bias\n",
    "print(output)"
   ]
  },
  {
   "cell_type": "code",
   "execution_count": 20,
   "id": "c6bbc56c",
   "metadata": {},
   "outputs": [
    {
     "name": "stdout",
     "output_type": "stream",
     "text": [
      "[3.8  4.1  6.95]\n"
     ]
    }
   ],
   "source": [
    "\n",
    "# Input values\n",
    "inputs = [1.0, 2.0, 3.0, 2.5]\n",
    "\n",
    "# Weights for each neuron (3 neurons, each with 4 weights)\n",
    "weights = [\n",
    "    [0.2, 0.8, -0.5, 0.6],  # Weights for neuron 1\n",
    "    [0.2, -0.8, 0.5, 0.4],  # Weights for neuron 2\n",
    "    [0.5, 0.5, -0.1, 2.1],  # Weights for neuron 3\n",
    "]\n",
    "\n",
    "# Bias values for each neuron\n",
    "biases = [2, 3, 0.5]\n",
    "\n",
    "# Output of the layer (list to store results for each neuron)\n",
    "layer_output = np.dot(weights, inputs) + biases\n",
    "\n",
    "print(layer_output)"
   ]
  },
  {
   "cell_type": "markdown",
   "id": "6c32f744",
   "metadata": {},
   "source": [
    "<div class=\"alert alert-block alert-danger\"> Need to take transpose of weight matrix<div>"
   ]
  },
  {
   "cell_type": "code",
   "execution_count": 23,
   "id": "ae292327",
   "metadata": {},
   "outputs": [
    {
     "name": "stdout",
     "output_type": "stream",
     "text": [
      "[[ 0.8   2.1  -3.55]\n",
      " [-0.1  16.2  18.35]\n",
      " [ 8.78  0.62 13.28]]\n"
     ]
    }
   ],
   "source": [
    "\n",
    "# Input values\n",
    "inputs = [\n",
    "    [1.0, 2.0, 3.0, -2.5], # Batch 1 inputs (x1, x2, x3)\n",
    "    [4.0, -7.0, 6.0, 9.5], # Batch 2 inputs (x1, x2, x3)\n",
    "    [-1.0, 7.0, 3.0, 4.8], # Batch 3 inputs (x1, x2, x3)\n",
    "]\n",
    "\n",
    "# Weights for each neuron (3 neurons, each with 4 weights)\n",
    "weights = [\n",
    "    [0.2, 0.8, -0.5, 0.6],  # Weights for neuron 1\n",
    "    [0.2, -0.8, 0.5, 0.4],  # Weights for neuron 2\n",
    "    [0.5, 0.5, -0.1, 2.1],  # Weights for neuron 3\n",
    "]\n",
    "\n",
    "# Bias values for each neuron\n",
    "biases = [2, 3, 0.5]\n",
    "\n",
    "# Output of the layer (list to store results for each neuron)\n",
    "layer_output = np.dot(inputs, (np.array(weights).T)) + biases\n",
    "\n",
    "print(layer_output)"
   ]
  },
  {
   "cell_type": "code",
   "execution_count": 24,
   "id": "c74e3de4",
   "metadata": {},
   "outputs": [
    {
     "name": "stdout",
     "output_type": "stream",
     "text": [
      "[[ 0.8   2.1  -3.55]\n",
      " [-0.1  16.2  18.35]\n",
      " [ 8.78  0.62 13.28]]\n"
     ]
    }
   ],
   "source": [
    "\n",
    "# Input values\n",
    "inputs = np.array([\n",
    "    [1.0, 2.0, 3.0, -2.5], # Batch 1 inputs (x1, x2, x3)\n",
    "    [4.0, -7.0, 6.0, 9.5], # Batch 2 inputs (x1, x2, x3)\n",
    "    [-1.0, 7.0, 3.0, 4.8], # Batch 3 inputs (x1, x2, x3)\n",
    "])\n",
    "\n",
    "# Weights for each neuron (3 neurons, each with 4 weights)\n",
    "weights = np.array([\n",
    "    [0.2, 0.8, -0.5, 0.6],  # Weights for neuron 1\n",
    "    [0.2, -0.8, 0.5, 0.4],  # Weights for neuron 2\n",
    "    [0.5, 0.5, -0.1, 2.1],  # Weights for neuron 3\n",
    "])\n",
    "\n",
    "# Bias values for each neuron\n",
    "biases = np.array([2, 3, 0.5])\n",
    "\n",
    "# Output of the layer (list to store results for each neuron)\n",
    "layer_output = np.dot(inputs, weights.T) + biases\n",
    "\n",
    "print(layer_output)"
   ]
  },
  {
   "cell_type": "code",
   "execution_count": 25,
   "id": "246abe60",
   "metadata": {},
   "outputs": [],
   "source": [
    "# Adding more layers"
   ]
  },
  {
   "cell_type": "code",
   "execution_count": 2,
   "id": "f3729e82",
   "metadata": {},
   "outputs": [
    {
     "name": "stdout",
     "output_type": "stream",
     "text": [
      "[[ 2.39  -2.01   1.02 ]\n",
      " [ 8.24  -0.27  18.78 ]\n",
      " [ 2.908 13.388 14.124]]\n"
     ]
    }
   ],
   "source": [
    "import numpy as np\n",
    "\n",
    "# Input values (3 batches, each with 4 features)\n",
    "inputs = np.array([\n",
    "    [1.0, 2.0, 3.0, -2.5],\n",
    "    [4.0, -7.0, 6.0, 9.5],\n",
    "    [-1.0, 7.0, 3.0, 4.8],\n",
    "])\n",
    "\n",
    "# Weights for layer 1 (4 neurons, each with 4 weights)\n",
    "weights1 = np.array([\n",
    "    [0.2, 0.8, -0.5, 0.6],\n",
    "    [0.2, -0.8, 0.5, 0.4],\n",
    "    [0.5, 0.5, -0.1, 2.1],\n",
    "    [0.1, 0.3, -0.2, 0.9],  # Added 4th neuron\n",
    "])\n",
    "\n",
    "# Biases for layer 1 (4 biases for 4 neurons)\n",
    "biases1 = np.array([2, 3, 0.5, 1])  # Added bias for 4th neuron\n",
    "\n",
    "# Weights for layer 2 (3 neurons, each with 4 weights)\n",
    "weights2 = np.array([\n",
    "    [0.1, 0.5, -0.3, 0.7],\n",
    "    [0.3, -0.9, 0.6, 0.2],\n",
    "    [0.4, 0.6, -0.2, 1.8],\n",
    "])\n",
    "\n",
    "# Biases for layer 2 (3 biases for 3 neurons)\n",
    "biases2 = np.array([1, 2, 0.8])\n",
    "\n",
    "# Compute layer 1 output\n",
    "layer1_output = np.dot(inputs, weights1.T) + biases1\n",
    "\n",
    "# Compute layer 2 output\n",
    "layer2_output = np.dot(layer1_output, weights2.T) + biases2\n",
    "\n",
    "# Print the layer 2 output\n",
    "print(layer2_output)"
   ]
  },
  {
   "cell_type": "code",
   "execution_count": 3,
   "id": "974448b3",
   "metadata": {},
   "outputs": [
    {
     "name": "stdout",
     "output_type": "stream",
     "text": [
      "Layer 4 Output:\n",
      "[[ 0.8378   1.7932 ]\n",
      " [14.5439   0.4903 ]\n",
      " [12.65798  1.80522]]\n"
     ]
    }
   ],
   "source": [
    "import numpy as np\n",
    "\n",
    "# Input values (3 batches, each with 4 features)\n",
    "inputs = np.array([\n",
    "    [1.0, 2.0, 3.0, -2.5],  # Batch 1\n",
    "    [4.0, -7.0, 6.0, 9.5],  # Batch 2\n",
    "    [-1.0, 7.0, 3.0, 4.8],  # Batch 3\n",
    "])\n",
    "\n",
    "# Weights and biases for Layer 1 (4 neurons, 4 inputs each)\n",
    "weights1 = np.array([\n",
    "    [0.2, 0.8, -0.5, 0.6],\n",
    "    [0.2, -0.8, 0.5, 0.4],\n",
    "    [0.5, 0.5, -0.1, 2.1],\n",
    "    [0.1, 0.3, -0.2, 0.9],\n",
    "])\n",
    "biases1 = np.array([2, 3, 0.5, 1])\n",
    "\n",
    "# Weights and biases for Layer 2 (5 neurons, 4 inputs each)\n",
    "weights2 = np.array([\n",
    "    [0.1, 0.5, -0.3, 0.7],\n",
    "    [0.3, -0.9, 0.6, 0.2],\n",
    "    [0.4, 0.6, -0.2, 1.8],\n",
    "    [0.2, 0.4, -0.1, 0.5],\n",
    "    [0.6, -0.3, 0.8, -0.4],\n",
    "])\n",
    "biases2 = np.array([1, 2, 0.8, 1.5, 0.3])\n",
    "\n",
    "# Weights and biases for Layer 3 (3 neurons, 5 inputs each)\n",
    "weights3 = np.array([\n",
    "    [0.4, -0.2, 0.7, 0.1, 0.9],\n",
    "    [0.3, 0.6, -0.5, 0.2, 0.4],\n",
    "    [0.1, 0.8, 0.3, -0.6, 0.5],\n",
    "])\n",
    "biases3 = np.array([0.7, 1.2, 0.4])\n",
    "\n",
    "# Weights and biases for Layer 4 (2 neurons, 3 inputs each)\n",
    "weights4 = np.array([\n",
    "    [0.5, -0.3, 0.2],\n",
    "    [0.1, 0.7, -0.4],\n",
    "])\n",
    "biases4 = np.array([0.9, 0.6])\n",
    "\n",
    "# Compute Layer 1 output\n",
    "layer1_output = np.dot(inputs, weights1.T) + biases1\n",
    "\n",
    "# Compute Layer 2 output\n",
    "layer2_output = np.dot(layer1_output, weights2.T) + biases2\n",
    "\n",
    "# Compute Layer 3 output\n",
    "layer3_output = np.dot(layer2_output, weights3.T) + biases3\n",
    "\n",
    "# Compute Layer 4 output\n",
    "layer4_output = np.dot(layer3_output, weights4.T) + biases4\n",
    "\n",
    "# Print the final output\n",
    "print(\"Layer 4 Output:\")\n",
    "print(layer4_output)"
   ]
  },
  {
   "cell_type": "code",
   "execution_count": null,
   "id": "4b0a784f",
   "metadata": {},
   "outputs": [],
   "source": []
  }
 ],
 "metadata": {
  "kernelspec": {
   "display_name": "Python 3",
   "language": "python",
   "name": "python3"
  },
  "language_info": {
   "codemirror_mode": {
    "name": "ipython",
    "version": 3
   },
   "file_extension": ".py",
   "mimetype": "text/x-python",
   "name": "python",
   "nbconvert_exporter": "python",
   "pygments_lexer": "ipython3",
   "version": "3.10.9"
  }
 },
 "nbformat": 4,
 "nbformat_minor": 5
}
